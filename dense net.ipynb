{
 "cells": [
  {
   "cell_type": "code",
   "execution_count": 2,
   "metadata": {},
   "outputs": [
    {
     "name": "stderr",
     "output_type": "stream",
     "text": [
      "Using CNTK backend\n",
      "c:\\users\\kojima\\appdata\\local\\programs\\python\\python35\\lib\\site-packages\\keras\\backend\\cntk_backend.py:21: UserWarning: CNTK backend warning: GPU is not detected. CNTK's CPU version is not fully optimized,please run with GPU to get better performance.\n",
      "  'CNTK backend warning: GPU is not detected. '\n"
     ]
    },
    {
     "data": {
      "text/plain": [
       "'channels_last'"
      ]
     },
     "execution_count": 2,
     "metadata": {},
     "output_type": "execute_result"
    }
   ],
   "source": [
    "import numpy as np\n",
    "import pickle\n",
    "from funcy                     import *\n",
    "from keras.preprocessing.image import ImageDataGenerator\n",
    "from keras.regularizers        import l2\n",
    "from keras.utils               import plot_model\n",
    "import keras.layers as kl\n",
    "\n",
    "import psutil\n",
    "import keras\n",
    "\n",
    "\n",
    "# basic configs\n",
    "weight_decay = 0.0005 \n",
    "use_bias = False\n",
    "weight_init=\"he_normal\" \n",
    "padding = 'same'\n",
    "L2 = keras.regularizers.l2(weight_decay)\n",
    "conv_config = {'padding':padding,\n",
    "               'kernel_initializer':weight_init,\n",
    "               'kernel_regularizer':L2,\n",
    "               'use_bias':use_bias}\n",
    "\n",
    "# insuring image data channel is at last axis \n",
    "keras.backend.image_data_format()\n",
    "# keras.backend..set_image_data_format('channels_first')"
   ]
  },
  {
   "cell_type": "code",
   "execution_count": 3,
   "metadata": {
    "collapsed": true
   },
   "outputs": [],
   "source": [
    "# Utility functions.\n",
    "\n",
    "def ljuxt(*fs):  \n",
    "    return rcompose(juxt(*fs), list)\n",
    "\n",
    "def bn():return kl.BatchNormalization()\n",
    "\n",
    "def relu():return kl.Activation('relu')\n",
    "\n",
    "def conv(filter_size, kernel_size, stride_size=1):\n",
    "    return kl.Conv2D(filters=filter_size, kernel_size=kernel_size,strides=stride_size, **conv_config)\n",
    "\n",
    "def conv3(filter_size):return conv(filter_size, kernel_size=(3,3), stride_size=1)\n",
    "def conv1(filter_size):return conv(filter_size, kernel_size=(1,1), stride_size=1)\n",
    "\n",
    "def add():return kl.Add()\n",
    "\n",
    "def GlobalAvgPool():return kl.GlobalAveragePooling2D()\n",
    "\n",
    "def avgPool(pool_size=2,strides=2):return kl.AveragePooling2D(pool_size=pool_size,strides=strides)\n",
    "\n",
    "def dense(unit_size, activation):\n",
    "    return kl.Dense(unit_size, activation=activation, kernel_regularizer=L2)  \n",
    "\n",
    "# original layer which is pad the channel size with zeros matrix, \n",
    "# ex. padding (None,28,28,1) 2 zeros channels as (None,28,28,3)\n",
    "class zeroPad(keras.engine.topology.Layer):\n",
    "    def __init__(self, output_dim, **kwargs):\n",
    "        self.output_dim = output_dim\n",
    "        self.l = None\n",
    "        super(zeroPad, self).__init__(**kwargs)\n",
    "\n",
    "    def build(self, input_shape):\n",
    "        super(zeroPad, self).build(input_shape)\n",
    "\n",
    "    def call(self, x):\n",
    "        x_shape = x.shape.as_list()\n",
    "        if self.output_dim == x_shape[-1]:\n",
    "            return x\n",
    "        if self.l is None:\n",
    "            padding = self.output_dim//x_shape[-1]\n",
    "            self.l = [x] + [kl.K.zeros_like(x) for i in range(padding-1)]\n",
    "            self.l +=  [kl.K.zeros_like(x)[:,:,:,:self.output_dim - padding*x_shape[-1]] ]\n",
    "        return kl.concatenate(self.l)\n",
    "\n",
    "    def compute_output_shape(self, input_shape):\n",
    "        return (input_shape[0],input_shape[1],input_shape[2], self.output_dim)\n",
    "\n",
    "    \n",
    "from keras.engine import Layer, InputSpec\n",
    "try:\n",
    "    from keras import initializations\n",
    "except ImportError:\n",
    "    from keras import initializers as initializations\n",
    "import keras.backend as K\n",
    "class Scale(Layer):\n",
    "    '''Custom Layer for DenseNet used for BatchNormalization.\n",
    "    \n",
    "    Learns a set of weights and biases used for scaling the input data.\n",
    "    the output consists simply in an element-wise multiplication of the input\n",
    "    and a sum of a set of constants:\n",
    "        out = in * gamma + beta,\n",
    "    where 'gamma' and 'beta' are the weights and biases larned.\n",
    "    # Arguments\n",
    "        axis: integer, axis along which to normalize in mode 0. For instance,\n",
    "            if your input tensor has shape (samples, channels, rows, cols),\n",
    "            set axis to 1 to normalize per feature map (channels axis).\n",
    "        momentum: momentum in the computation of the\n",
    "            exponential average of the mean and standard deviation\n",
    "            of the data, for feature-wise normalization.\n",
    "        weights: Initialization weights.\n",
    "            List of 2 Numpy arrays, with shapes:\n",
    "            `[(input_shape,), (input_shape,)]`\n",
    "        beta_init: name of initialization function for shift parameter\n",
    "            (see [initializations](../initializations.md)), or alternatively,\n",
    "            Theano/TensorFlow function to use for weights initialization.\n",
    "            This parameter is only relevant if you don't pass a `weights` argument.\n",
    "        gamma_init: name of initialization function for scale parameter (see\n",
    "            [initializations](../initializations.md)), or alternatively,\n",
    "            Theano/TensorFlow function to use for weights initialization.\n",
    "            This parameter is only relevant if you don't pass a `weights` argument.\n",
    "    '''\n",
    "    def __init__(self, weights=None, axis=-1, momentum = 0.9, beta_init='zero', gamma_init='one', **kwargs):\n",
    "        self.momentum = momentum\n",
    "        self.axis = axis\n",
    "        self.beta_init = initializations.get(beta_init)\n",
    "        self.gamma_init = initializations.get(gamma_init)\n",
    "        self.initial_weights = weights\n",
    "        super(Scale, self).__init__(**kwargs)\n",
    "\n",
    "    def build(self, input_shape):\n",
    "        self.input_spec = [InputSpec(shape=input_shape)]\n",
    "        shape = (int(input_shape[self.axis]),)\n",
    "\n",
    "        # Tensorflow >= 1.0.0 compatibility\n",
    "        self.gamma = K.variable(self.gamma_init(shape), name='{}_gamma'.format(self.name))\n",
    "        self.beta = K.variable(self.beta_init(shape), name='{}_beta'.format(self.name))\n",
    "        #self.gamma = self.gamma_init(shape, name='{}_gamma'.format(self.name))\n",
    "        #self.beta = self.beta_init(shape, name='{}_beta'.format(self.name))\n",
    "        self.trainable_weights = [self.gamma, self.beta]\n",
    "\n",
    "        if self.initial_weights is not None:\n",
    "            self.set_weights(self.initial_weights)\n",
    "            del self.initial_weights\n",
    "\n",
    "    def call(self, x, mask=None):\n",
    "        input_shape = self.input_spec[0].shape\n",
    "        broadcast_shape = [1] * len(input_shape)\n",
    "        broadcast_shape[self.axis] = input_shape[self.axis]\n",
    "\n",
    "        out = K.reshape(self.gamma, broadcast_shape) * x + K.reshape(self.beta, broadcast_shape)\n",
    "        return out\n",
    "\n",
    "    def get_config(self):\n",
    "        config = {\"momentum\": self.momentum, \"axis\": self.axis}\n",
    "        base_config = super(Scale, self).get_config()\n",
    "        return dict(list(base_config.items()) + list(config.items()))"
   ]
  },
  {
   "cell_type": "markdown",
   "metadata": {},
   "source": [
    "# dense net architecture\n",
    "![title](https://cdn-images-1.medium.com/max/1600/1*KOjUX1ST5RnDOZWWLWRGkw.png)\n",
    "![title](https://data-sci.info/wp-content/uploads/2017/07/densenet-4.png)"
   ]
  },
  {
   "cell_type": "code",
   "execution_count": 4,
   "metadata": {
    "collapsed": true
   },
   "outputs": [],
   "source": [
    "def bn_scale_relu_conv(compression=1.0, kernel_size=1, stride_size=1):\n",
    "    def f(x,compression=compression):\n",
    "        x= rcompose(bn(),\n",
    "#                     Scale(),\n",
    "                    relu(),\n",
    "                    conv(int(int(x.shape[-1]) * compression), kernel_size, stride_size),\n",
    "                   )(x)\n",
    "        return x\n",
    "    return f\n",
    "\n",
    "def dense_unit(growth,units = 4):\n",
    "    def f(x):\n",
    "        ls = x\n",
    "        for i in range(units):\n",
    "            x = rcompose(bn(),#Scale(),\n",
    "                         relu(),conv3(growth*4),\n",
    "                         bn(),#Scale(),\n",
    "                         relu(),conv3(growth),)(x)\n",
    "            ls = x = kl.Concatenate()([x,ls])\n",
    "        return x\n",
    "    return f\n",
    "\n",
    "def denseNet(class_size=1000,first=2**5,growth=16,compression=1/4,units=[6,12,24,16]):\n",
    "    units = iter(units)\n",
    "    return rcompose(conv3(first),\n",
    "                    \n",
    "                    dense_unit(growth,next(units)),\n",
    "                    bn_scale_relu_conv(compression),\n",
    "                    kl.AveragePooling2D(2,2),\n",
    "                    \n",
    "                    dense_unit(growth,next(units)),\n",
    "                    bn_scale_relu_conv(compression),\n",
    "                    kl.AveragePooling2D(2,2),\n",
    "                    \n",
    "                    dense_unit(growth,next(units)),\n",
    "                    bn_scale_relu_conv(compression),\n",
    "                    kl.AveragePooling2D(2,2),\n",
    "                    \n",
    "                    dense_unit(growth,next(units)),\n",
    "                    bn_scale_relu_conv(compression),\n",
    "                    kl.AveragePooling2D(2,2),\n",
    "                    \n",
    "                    bn(),Scale(),relu(),\n",
    "                    GlobalAvgPool(),\n",
    "                    dense(class_size, 'softmax')\n",
    "    )\n",
    "\n",
    "def bn_scale_relu_updim_conv(compression=1.0, kernel_size=1, stride_size=1):\n",
    "    def f(x,compression=compression):\n",
    "        x= rcompose(bn(),\n",
    "#                     Scale(),\n",
    "                    relu(),\n",
    "                    kl.UpSampling2D(2),\n",
    "                    conv(int(int(x.shape[-1]) * compression), kernel_size, stride_size),\n",
    "                   )(x)\n",
    "        return x\n",
    "    return f\n",
    "\n",
    "def denseNet_FCN(class_size=1000,first=2**5,growth=2,compression=1/4,units=[6,12,24,16]):\n",
    "    units_fcn = iter(units[::-1])\n",
    "    units = iter(units)\n",
    "    \n",
    "    return rcompose(conv3(first),\n",
    "                    \n",
    "                    dense_unit(growth,next(units)),\n",
    "                    bn_scale_relu_conv(compression),\n",
    "                    kl.AveragePooling2D(2,2),\n",
    "                    \n",
    "                    dense_unit(growth,next(units)),\n",
    "                    bn_scale_relu_conv(compression),\n",
    "                    kl.AveragePooling2D(2,2),\n",
    "                    \n",
    "                    dense_unit(growth,next(units)),\n",
    "                    bn_scale_relu_conv(compression),\n",
    "                    kl.AveragePooling2D(2,2),\n",
    "                    \n",
    "                    dense_unit(growth,next(units)),\n",
    "                    bn_scale_relu_conv(compression),\n",
    "                    kl.AveragePooling2D(2,2),\n",
    "                    \n",
    "                    #=====================================\n",
    "                    \n",
    "                    bn_scale_relu_updim_conv(compression),\n",
    "                    dense_unit(growth,next(units_fcn)),\n",
    "                    \n",
    "                    bn_scale_relu_updim_conv(compression),\n",
    "                    dense_unit(growth,next(units_fcn)),\n",
    "                    \n",
    "                    bn_scale_relu_updim_conv(compression),\n",
    "                    dense_unit(growth,next(units_fcn)),\n",
    "                    \n",
    "                    bn_scale_relu_updim_conv(compression),\n",
    "                    dense_unit(growth,next(units_fcn)),\n",
    "                    \n",
    "                    conv1(class_size),\n",
    "                    kl.Activation('sigmoid')\n",
    "#                     bn(),Scale(),relu(),\n",
    "#                     GlobalAvgPool(),\n",
    "#                     dense(class_size, 'softmax')\n",
    "    )"
   ]
  },
  {
   "cell_type": "code",
   "execution_count": null,
   "metadata": {
    "collapsed": true
   },
   "outputs": [],
   "source": [
    "path = 'I:/Downloads/unet-master/npydata/'#'F:/Installer/unet-master/npydata/'\n",
    "x_train=np.load(path+'imgs_train.npy')/255.0\n",
    "x_test=np.load(path+'imgs_test.npy')/255.0\n",
    "y_train=np.round(np.load(path+'imgs_mask_train.npy')/255.0)"
   ]
  },
  {
   "cell_type": "code",
   "execution_count": null,
   "metadata": {},
   "outputs": [],
   "source": [
    "from skimage.transform import rescale, resize\n",
    "resizef = lambda x:resize(x, (x.shape[0] // 2, x.shape[1] // 2))\n",
    "x_train_resized = np.asarray(list(map(resizef,x_train)))\n",
    "y_train_resized = np.asarray(list(map(resizef,y_train)))\n",
    "x_test_resized = np.asarray(list(map(resizef,x_test)))\n",
    "\n",
    "from matplotlib import pyplot as plt\n",
    "def visualize(img_arr):\n",
    "    plt.imshow((img_arr*255).reshape(img_arr.shape[:2]).astype(np.uint8),cmap='gray')\n",
    "    plt.axis('off')\n",
    "    plt.show()\n",
    "visualize(y_train_resized[0])"
   ]
  },
  {
   "cell_type": "code",
   "execution_count": null,
   "metadata": {
    "scrolled": true
   },
   "outputs": [],
   "source": [
    "x = kl.Input(shape=x_train_resized[0].shape)\n",
    "model = keras.models.Model(x, denseNet_FCN(class_size=1)(x) )\n",
    "model.summary()\n",
    "from IPython.display import SVG\n",
    "from keras.utils.vis_utils import model_to_dot\n",
    "SVG(model_to_dot(model,show_shapes=True).create(prog='dot', format='svg'))"
   ]
  },
  {
   "cell_type": "code",
   "execution_count": null,
   "metadata": {},
   "outputs": [],
   "source": [
    "sgd = keras.optimizers.SGD(momentum=0.9, nesterov=True)\n",
    "model.compile(sgd, \"binary_crossentropy\", [\"accuracy\"])\n",
    "model.fit(x_train_resized.astype(np.float32),y_train_resized.astype(np.float32)\n",
    "          ,batch_size=1,epochs=300,)#callbacks=[hist])"
   ]
  },
  {
   "cell_type": "code",
   "execution_count": null,
   "metadata": {
    "collapsed": true
   },
   "outputs": [],
   "source": []
  },
  {
   "cell_type": "code",
   "execution_count": null,
   "metadata": {
    "collapsed": true
   },
   "outputs": [],
   "source": []
  },
  {
   "cell_type": "code",
   "execution_count": null,
   "metadata": {
    "collapsed": true
   },
   "outputs": [],
   "source": []
  },
  {
   "cell_type": "code",
   "execution_count": null,
   "metadata": {
    "collapsed": true
   },
   "outputs": [],
   "source": []
  },
  {
   "cell_type": "code",
   "execution_count": null,
   "metadata": {
    "collapsed": true
   },
   "outputs": [],
   "source": []
  },
  {
   "cell_type": "code",
   "execution_count": null,
   "metadata": {
    "collapsed": true
   },
   "outputs": [],
   "source": []
  },
  {
   "cell_type": "code",
   "execution_count": null,
   "metadata": {
    "collapsed": true
   },
   "outputs": [],
   "source": []
  },
  {
   "cell_type": "code",
   "execution_count": null,
   "metadata": {
    "collapsed": true
   },
   "outputs": [],
   "source": []
  }
 ],
 "metadata": {
  "kernelspec": {
   "display_name": "Python 3",
   "language": "python",
   "name": "python3"
  },
  "language_info": {
   "codemirror_mode": {
    "name": "ipython",
    "version": 3
   },
   "file_extension": ".py",
   "mimetype": "text/x-python",
   "name": "python",
   "nbconvert_exporter": "python",
   "pygments_lexer": "ipython3",
   "version": "3.5.1"
  }
 },
 "nbformat": 4,
 "nbformat_minor": 2
}
